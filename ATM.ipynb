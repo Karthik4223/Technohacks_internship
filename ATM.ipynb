{
 "cells": [
  {
   "cell_type": "code",
   "execution_count": null,
   "id": "0186ca56",
   "metadata": {},
   "outputs": [],
   "source": [
    "class ATM:\n",
    "    def __init__(self, balance=0):\n",
    "        self.balance = balance\n",
    "\n",
    "    def check_balance(self):\n",
    "        print(f\"Your balance is ${self.balance}\")\n",
    "\n",
    "    def deposit(self, amount):\n",
    "        if amount > 0:\n",
    "            self.balance += amount\n",
    "            print(f\"${amount} has been deposited into your account.\")\n",
    "        else:\n",
    "            print(\"Invalid amount. Please enter a positive number.\")\n",
    "\n",
    "    def withdraw(self, amount):\n",
    "        if 0 < amount <= self.balance:\n",
    "            self.balance -= amount\n",
    "            print(f\"${amount} has been withdrawn from your account.\")\n",
    "        else:\n",
    "            print(\"Insufficient funds or invalid amount.\")\n",
    "\n",
    "def main():\n",
    "    atm = ATM()\n",
    "\n",
    "    while True:\n",
    "        print(\"\\n1. Check Balance\")\n",
    "        print(\"2. Deposit\")\n",
    "        print(\"3. Withdraw\")\n",
    "        print(\"4. Exit\")\n",
    "        choice = input(\"Enter your choice (1/2/3/4): \")\n",
    "\n",
    "        if choice == '1':\n",
    "            atm.check_balance()\n",
    "        elif choice == '2':\n",
    "            amount = float(input(\"Enter the amount to deposit: \"))\n",
    "            atm.deposit(amount)\n",
    "        elif choice == '3':\n",
    "            amount = float(input(\"Enter the amount to withdraw: \"))\n",
    "            atm.withdraw(amount)\n",
    "        elif choice == '4':\n",
    "            print(\"Exiting the program. Goodbye!\")\n",
    "            break\n",
    "        else:\n",
    "            print(\"Invalid choice. Please enter 1, 2, 3, or 4.\")\n",
    "\n",
    "if __name__ == \"__main__\":\n",
    "    main()\n"
   ]
  }
 ],
 "metadata": {
  "kernelspec": {
   "display_name": "Python 3 (ipykernel)",
   "language": "python",
   "name": "python3"
  },
  "language_info": {
   "codemirror_mode": {
    "name": "ipython",
    "version": 3
   },
   "file_extension": ".py",
   "mimetype": "text/x-python",
   "name": "python",
   "nbconvert_exporter": "python",
   "pygments_lexer": "ipython3",
   "version": "3.10.6"
  }
 },
 "nbformat": 4,
 "nbformat_minor": 5
}
